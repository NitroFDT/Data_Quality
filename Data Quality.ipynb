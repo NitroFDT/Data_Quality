{
 "cells": [
  {
   "cell_type": "code",
   "execution_count": 3,
   "id": "e73535ed",
   "metadata": {},
   "outputs": [],
   "source": [
    "#Import Data\n",
    "import pandas as pd\n",
    "import numpy as np\n",
    "import io\n",
    "import pandas_profiling\n",
    "retail_raw = pd.read_csv('https://storage.googleapis.com/dqlab-dataset/retail_raw_reduced_data_quality.csv')"
   ]
  },
  {
   "cell_type": "code",
   "execution_count": 36,
   "id": "1b395eda",
   "metadata": {},
   "outputs": [
    {
     "name": "stdout",
     "output_type": "stream",
     "text": [
      "order_id         int64\n",
      "order_date      object\n",
      "customer_id      int64\n",
      "city            object\n",
      "province        object\n",
      "product_id      object\n",
      "brand           object\n",
      "quantity       float64\n",
      "item_price     float64\n",
      "dtype: object\n"
     ]
    }
   ],
   "source": [
    "#Inspeksi Data\n",
    "print(retail_raw.dtypes)"
   ]
  },
  {
   "cell_type": "code",
   "execution_count": 37,
   "id": "d2560d0b",
   "metadata": {},
   "outputs": [
    {
     "name": "stdout",
     "output_type": "stream",
     "text": [
      "Length kolom city: 5000\n",
      "Length kolom product_id: 5000\n"
     ]
    }
   ],
   "source": [
    "#Pemanfaatan Fungsi Len (menghitung jumlah series/kolom)\n",
    "# Kolom city\n",
    "length_city = len(retail_raw['city'])\n",
    "print('Length kolom city:', length_city)\n",
    "# Kolom product_id\n",
    "length_product_id = len(retail_raw['product_id'])\n",
    "print('Length kolom product_id:', length_product_id)"
   ]
  },
  {
   "cell_type": "code",
   "execution_count": 38,
   "id": "0a6a6afb",
   "metadata": {},
   "outputs": [
    {
     "name": "stdout",
     "output_type": "stream",
     "text": [
      "Count kolom count_city: 4984\n",
      "Count kolom product_id: 4989\n"
     ]
    }
   ],
   "source": [
    "#Pemanfaatan Count(menghitung jumlah non-null dalam series)\n",
    "# Count kolom city\n",
    "count_city = retail_raw['city'].count()\n",
    "print('Count kolom count_city:', count_city)\n",
    "# Count kolom product_id\n",
    "count_product_id = retail_raw['product_id'].count()\n",
    "print('Count kolom product_id:', count_product_id)"
   ]
  },
  {
   "cell_type": "code",
   "execution_count": 39,
   "id": "640fb683",
   "metadata": {},
   "outputs": [
    {
     "name": "stdout",
     "output_type": "stream",
     "text": [
      "Persentase missing value kolom city: 0.3%\n",
      "Persentase missing value kolom product_id: 0.2%\n"
     ]
    }
   ],
   "source": [
    "#Mencari persentase missing value pada setiap kolom\n",
    "\n",
    "#Missing value pada kolom city\n",
    "number_of_missing_values_city = length_city-count_city\n",
    "float_of_missing_values_city = float(number_of_missing_values_city/length_city)\n",
    "pct_of_missing_values_city ='{0:.1f}%'.format(float_of_missing_values_city * 100)\n",
    "print('Persentase missing value kolom city:', pct_of_missing_values_city)\n",
    "\n",
    "#Missing value pada kolom product_id\n",
    "number_of_missing_values_product_id = length_product_id - count_product_id\n",
    "float_of_missing_values_product_id = float(number_of_missing_values_product_id/length_product_id )\n",
    "pct_of_missing_values_product_id = '{0:.1f}%'.format(float_of_missing_values_product_id * 100)\n",
    "print('Persentase missing value kolom product_id:', pct_of_missing_values_product_id )"
   ]
  },
  {
   "cell_type": "code",
   "execution_count": 4,
   "id": "ef705475",
   "metadata": {},
   "outputs": [
    {
     "name": "stdout",
     "output_type": "stream",
     "text": [
      "Kolom quantity\n",
      "Minimum value:  1.0\n",
      "Maximum value:  720.0\n",
      "Mean value:  11.423987164059366\n",
      "Mode value:  0    1.0\n",
      "dtype: float64\n",
      "Median value:  5.0\n",
      "Standard Deviation value:  29.442025010811317\n",
      "\n",
      "Kolom item_price\n",
      "Minimum value:  26000.0\n",
      "Maximum value:  29762000.0\n",
      "Mean value:  933742.7311008623\n",
      "Median value:  604000.0\n",
      "Standard Deviation value:  1030829.8104242863\n"
     ]
    }
   ],
   "source": [
    "# Deskriptif statistics kolom quantity\n",
    "print('Kolom quantity')\n",
    "print('Minimum value: ', retail_raw['quantity'].min())\n",
    "print('Maximum value: ', retail_raw['quantity'].max())\n",
    "print('Mean value: ', retail_raw['quantity'].mean())\n",
    "print('Mode value: ', retail_raw['quantity'].mode())\n",
    "print('Median value: ', retail_raw['quantity'].median())\n",
    "print('Standard Deviation value: ', retail_raw['quantity'].std())\n",
    "\n",
    "# Tugas praktek: Deskriptif statistics kolom item_price\n",
    "print('')\n",
    "print('Kolom item_price')\n",
    "print('Minimum value: ', retail_raw['item_price'].min())\n",
    "print('Maximum value: ', retail_raw['item_price'].max())\n",
    "print('Mean value: ', retail_raw['item_price'].mean())\n",
    "print('Median value: ', retail_raw['item_price'].median())\n",
    "print('Standard Deviation value: ', retail_raw['item_price'].std())"
   ]
  },
  {
   "cell_type": "code",
   "execution_count": 7,
   "id": "f68b17c0",
   "metadata": {},
   "outputs": [
    {
     "name": "stdout",
     "output_type": "stream",
     "text": [
      "Kolom quantity:\n",
      "0.25     2.0\n",
      "0.50     5.0\n",
      "0.75    12.0\n",
      "Name: quantity, dtype: float64\n",
      "\n",
      "Kolom item_price:\n",
      "0.25     450000.0\n",
      "0.50     604000.0\n",
      "0.75    1045000.0\n",
      "Name: item_price, dtype: float64\n"
     ]
    }
   ],
   "source": [
    "# Quantile statistics kolom quantity\n",
    "print('Kolom quantity:')\n",
    "print(retail_raw['quantity'].quantile([0.25, 0.5, 0.75]))\n",
    "\n",
    "# Tugas praktek: Quantile statistics kolom item_price\n",
    "print('')\n",
    "print('Kolom item_price:')\n",
    "print(retail_raw['item_price'].quantile([0.25, 0.5, 0.75]))"
   ]
  },
  {
   "cell_type": "code",
   "execution_count": 8,
   "id": "955f22ef",
   "metadata": {},
   "outputs": [
    {
     "name": "stdout",
     "output_type": "stream",
     "text": [
      "Korelasi quantity dengan item_price\n",
      "            quantity  item_price\n",
      "quantity    1.000000   -0.133936\n",
      "item_price -0.133936    1.000000\n"
     ]
    }
   ],
   "source": [
    "print('Korelasi quantity dengan item_price')\n",
    "print(retail_raw[['quantity', 'item_price']].corr())"
   ]
  },
  {
   "cell_type": "code",
   "execution_count": 13,
   "id": "f298c0fa",
   "metadata": {},
   "outputs": [
    {
     "name": "stdout",
     "output_type": "stream",
     "text": [
      "Check kolom yang memiliki missing data:\n",
      "order_id       False\n",
      "order_date     False\n",
      "customer_id    False\n",
      "city            True\n",
      "province        True\n",
      "product_id      True\n",
      "brand          False\n",
      "quantity        True\n",
      "item_price      True\n",
      "dtype: bool\n"
     ]
    }
   ],
   "source": [
    "# Check kolom yang memiliki missing data\n",
    "print('Check kolom yang memiliki missing data:')\n",
    "print(retail_raw.isnull().any())"
   ]
  },
  {
   "cell_type": "code",
   "execution_count": 12,
   "id": "12023f68",
   "metadata": {},
   "outputs": [
    {
     "name": "stdout",
     "output_type": "stream",
     "text": [
      "\n",
      "Filling the missing value (imputasi):\n",
      "0       10.0\n",
      "1        2.0\n",
      "2        8.0\n",
      "3        4.0\n",
      "4        2.0\n",
      "        ... \n",
      "4995     2.0\n",
      "4996     3.0\n",
      "4997     4.0\n",
      "4998     8.0\n",
      "4999     1.0\n",
      "Name: quantity, Length: 5000, dtype: float64\n"
     ]
    }
   ],
   "source": [
    "# Filling the missing value (imputasi) kolom quantity\n",
    "print('\\nFilling the missing value (imputasi):')\n",
    "print(retail_raw['quantity'].fillna(retail_raw.quantity.mean()))"
   ]
  },
  {
   "cell_type": "code",
   "execution_count": 14,
   "id": "37f686c9",
   "metadata": {},
   "outputs": [
    {
     "name": "stdout",
     "output_type": "stream",
     "text": [
      "\n",
      "Drop missing value:\n",
      "0       10.0\n",
      "1        2.0\n",
      "2        8.0\n",
      "3        4.0\n",
      "4        2.0\n",
      "        ... \n",
      "4995     2.0\n",
      "4996     3.0\n",
      "4997     4.0\n",
      "4998     8.0\n",
      "4999     1.0\n",
      "Name: quantity, Length: 4986, dtype: float64\n"
     ]
    }
   ],
   "source": [
    "# Drop missing value\n",
    "print('\\nDrop missing value:')\n",
    "print(retail_raw['quantity'].dropna())"
   ]
  },
  {
   "cell_type": "code",
   "execution_count": 15,
   "id": "76e16c36",
   "metadata": {},
   "outputs": [
    {
     "name": "stdout",
     "output_type": "stream",
     "text": [
      "0       7.400000e+05\n",
      "1       6.040000e+05\n",
      "2       1.045000e+06\n",
      "3       2.050000e+05\n",
      "4       9.337427e+05\n",
      "            ...     \n",
      "4995    4.500000e+05\n",
      "4996    1.465000e+06\n",
      "4997    7.470000e+05\n",
      "4998    6.950000e+05\n",
      "4999    1.045000e+06\n",
      "Name: item_price, Length: 5000, dtype: float64\n"
     ]
    }
   ],
   "source": [
    "# Filling the missing value (imputasi) kolom item_price\n",
    "print(retail_raw['item_price'].fillna(retail_raw['item_price'].mean()))"
   ]
  },
  {
   "cell_type": "code",
   "execution_count": null,
   "id": "f2026e9a",
   "metadata": {},
   "outputs": [],
   "source": [
    "# Q1, Q3, dan IQR\n",
    "Q1 = retail_raw['quantity'].quantile(0.25)\n",
    "Q3 = retail_raw['quantity'].quantile(0.75)\n",
    "IQR = Q3 - Q1\n",
    "\n",
    "# Check ukuran (baris dan kolom) sebelum data yang outliers dibuang\n",
    "print('Shape awal: ', retail_raw.shape)\n",
    "\n",
    "# Removing outliers\n",
    "retail_raw = retail_raw[~((retail_raw['quantity'] < (Q1 - 1.5 * IQR)) | (retail_raw['quantity'] > (Q3 + 1.5 * IQR)))]\n",
    "\n",
    "# Check ukuran (baris dan kolom) setelah data yang outliers dibuang\n",
    "print('Shape akhir: ', retail_raw.shape)"
   ]
  },
  {
   "cell_type": "code",
   "execution_count": null,
   "id": "738b4164",
   "metadata": {},
   "outputs": [],
   "source": [
    "# Q1, Q3, dan IQR\n",
    "Q1 = retail_raw['item_price'].quantile(0.25)\n",
    "Q3 = retail_raw['item_price'].quantile(0.75)\n",
    "IQR = Q3 - Q1\n",
    "\n",
    "# Check ukuran (baris dan kolom) sebelum data yang outliers dibuang\n",
    "print('Shape awal: ', retail_raw.shape)\n",
    "\n",
    "# Removing outliers\n",
    "retail_raw = retail_raw[~((retail_raw['item_price'] < (Q1 - 1.5 * IQR)) | (retail_raw['item_price'] > (Q3 + 1.5 * IQR)))]\n",
    "\n",
    "# Check ukuran (baris dan kolom) setelah data yang outliers dibuang\n",
    "print('Shape akhir: ', retail_raw.shape)"
   ]
  },
  {
   "cell_type": "code",
   "execution_count": 16,
   "id": "4d543742",
   "metadata": {},
   "outputs": [
    {
     "name": "stdout",
     "output_type": "stream",
     "text": [
      "Shape awal:  (5000, 9)\n",
      "Shape akhir:  (4993, 9)\n"
     ]
    }
   ],
   "source": [
    "# Check ukuran (baris dan kolom) sebelum data duplikasi dibuang\n",
    "print('Shape awal: ', retail_raw.shape)\n",
    "\n",
    "# Buang data yang terduplikasi\n",
    "retail_raw.drop_duplicates(inplace=True)\n",
    "\n",
    "# Check ukuran (baris dan kolom) setelah data duplikasi dibuang\n",
    "print('Shape akhir: ', retail_raw.shape)"
   ]
  }
 ],
 "metadata": {
  "kernelspec": {
   "display_name": "Python 3",
   "language": "python",
   "name": "python3"
  },
  "language_info": {
   "codemirror_mode": {
    "name": "ipython",
    "version": 3
   },
   "file_extension": ".py",
   "mimetype": "text/x-python",
   "name": "python",
   "nbconvert_exporter": "python",
   "pygments_lexer": "ipython3",
   "version": "3.8.8"
  }
 },
 "nbformat": 4,
 "nbformat_minor": 5
}
